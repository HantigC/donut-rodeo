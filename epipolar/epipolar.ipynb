{
 "cells": [
  {
   "cell_type": "code",
   "execution_count": null,
   "metadata": {},
   "outputs": [],
   "source": [
    "from plotly import express as px\n",
    "import plotly.graph_objects as go\n",
    "from plotly.subplots import make_subplots"
   ]
  },
  {
   "cell_type": "code",
   "execution_count": null,
   "metadata": {},
   "outputs": [],
   "source": [
    "import cv2"
   ]
  },
  {
   "cell_type": "code",
   "execution_count": null,
   "metadata": {},
   "outputs": [],
   "source": [
    "from epi.plotlyx.express import scatter_3d\n",
    "from epi.plotlyx.utils.fig import np_to_plotly\n",
    "from epi.plotlyx.render import CameraCoordinateRenderer, render_camera_axes"
   ]
  },
  {
   "cell_type": "code",
   "execution_count": null,
   "metadata": {},
   "outputs": [],
   "source": [
    "from epi import geometry as geom"
   ]
  },
  {
   "cell_type": "code",
   "execution_count": null,
   "metadata": {},
   "outputs": [],
   "source": [
    "from typing import Union, List, Tuple"
   ]
  },
  {
   "cell_type": "code",
   "execution_count": null,
   "metadata": {},
   "outputs": [],
   "source": [
    "import numpy as np\n",
    "from IPython.core.debugger import set_trace"
   ]
  },
  {
   "cell_type": "code",
   "execution_count": null,
   "metadata": {},
   "outputs": [],
   "source": [
    "from epi.camera import ProjCamera\n",
    "from epi.model import read_vertices, Model"
   ]
  },
  {
   "cell_type": "code",
   "execution_count": null,
   "metadata": {},
   "outputs": [],
   "source": [
    "PLOTLY_UP = dict(x=0, y=1, z=0)\n",
    "PLOTLY_CENTER = dict(x=0, y=0, z=0)\n",
    "PLOTLY_EYE = dict(x=0, y=0, z=2)\n",
    "SCENE_SCALE = 16"
   ]
  },
  {
   "cell_type": "code",
   "execution_count": null,
   "metadata": {},
   "outputs": [],
   "source": [
    "proj_camera1 = ProjCamera(\n",
    "    np.array([-1, 0, 15]),\n",
    "    0.2,\n",
    "    640,\n",
    "    480,\n",
    "    yaw=0,\n",
    "    pitch=0,\n",
    "    xpixel_mm=0.001,\n",
    "    ypixel_mm=0.001,\n",
    ")\n",
    "\n",
    "proj_camera2 = ProjCamera(\n",
    "    np.array([2, 0, 15]),\n",
    "    0.2,\n",
    "    640,\n",
    "    480,\n",
    "    yaw=0,\n",
    "    pitch=0,\n",
    "    xpixel_mm=0.001,\n",
    "    ypixel_mm=0.001,\n",
    ")"
   ]
  },
  {
   "cell_type": "code",
   "execution_count": null,
   "metadata": {},
   "outputs": [],
   "source": [
    "vertices = read_vertices(\"./building_04.obj\")\n",
    "house_model = Model(\n",
    "    vertices,\n",
    "    color=np.linalg.norm(vertices, axis=-1),\n",
    "    position=np.array([0, 0, 10]),\n",
    ")"
   ]
  },
  {
   "cell_type": "code",
   "execution_count": null,
   "metadata": {},
   "outputs": [],
   "source": [
    "proj_camera1.gaze = house_model.center\n",
    "proj_camera2.gaze = house_model.center"
   ]
  },
  {
   "cell_type": "code",
   "execution_count": null,
   "metadata": {},
   "outputs": [],
   "source": [
    "fig = go.Figure(\n",
    "    data=[\n",
    "        scatter_3d(\n",
    "            house_model.vertices,\n",
    "            marker=dict(color=house_model.color, symbol=\"x\", size=1),\n",
    "        )\n",
    "    ],\n",
    ")\n",
    "\n",
    "fig.update_layout(\n",
    "    scene=dict(\n",
    "        camera=dict(\n",
    "            up=PLOTLY_UP, eye=np_to_plotly(proj_camera1.gaze)\n",
    "        ),\n",
    "        xaxis=dict(\n",
    "            nticks=20,\n",
    "            range=[-SCENE_SCALE, SCENE_SCALE],\n",
    "        ),\n",
    "        yaxis=dict(\n",
    "            nticks=20,\n",
    "            range=[-SCENE_SCALE, SCENE_SCALE],\n",
    "        ),\n",
    "        zaxis=dict(\n",
    "            nticks=20,\n",
    "            range=[-SCENE_SCALE, SCENE_SCALE],\n",
    "        ),\n",
    "    ),\n",
    "    width=600,\n",
    "    height=600,\n",
    "    showlegend=False,\n",
    "    margin=dict(r=20, l=10, b=10, t=10),\n",
    ")\n",
    "\n",
    "\n",
    "render_camera_axes(fig, proj_camera2)\n",
    "render_camera_axes(fig, proj_camera1)\n",
    "fig.update_scenes(aspectmode=\"data\")\n",
    "\n",
    "fig"
   ]
  },
  {
   "cell_type": "code",
   "execution_count": null,
   "metadata": {},
   "outputs": [],
   "source": [
    "fig = go.Figure(\n",
    "    layout=dict(\n",
    "        scene=dict(\n",
    "            camera=dict(\n",
    "                up=PLOTLY_UP,\n",
    "            ),\n",
    "            xaxis=dict(\n",
    "                nticks=20,\n",
    "                range=[SCENE_SCALE, -SCENE_SCALE],\n",
    "            ),\n",
    "            yaxis=dict(\n",
    "                nticks=20,\n",
    "                range=[-SCENE_SCALE, SCENE_SCALE],\n",
    "            ),\n",
    "            zaxis=dict(\n",
    "                nticks=20,\n",
    "                range=[-SCENE_SCALE, SCENE_SCALE],\n",
    "            ),\n",
    "        ),\n",
    "        width=600,\n",
    "        height=600,\n",
    "        showlegend=False,\n",
    "        margin=dict(r=20, l=10, b=10, t=10),\n",
    "    )\n",
    ")"
   ]
  },
  {
   "cell_type": "code",
   "execution_count": null,
   "metadata": {},
   "outputs": [],
   "source": [
    "camera1_renderer = CameraCoordinateRenderer(proj_camera1, fig=fig)\n",
    "camera2_renderer = CameraCoordinateRenderer(proj_camera2, fig=fig)"
   ]
  },
  {
   "cell_type": "code",
   "execution_count": null,
   "metadata": {},
   "outputs": [],
   "source": [
    "camera1_renderer.render(house_model)"
   ]
  },
  {
   "cell_type": "code",
   "execution_count": null,
   "metadata": {},
   "outputs": [],
   "source": [
    "camera2_renderer.render(house_model)"
   ]
  },
  {
   "cell_type": "code",
   "execution_count": null,
   "metadata": {},
   "outputs": [],
   "source": [
    "img1, depth1, world_idx1 = proj_camera1.render_img(house_model.vertices, color=1)\n",
    "img2, depth2, world_idx2 = proj_camera2.render_img(house_model.vertices, color=1)"
   ]
  },
  {
   "cell_type": "code",
   "execution_count": null,
   "metadata": {},
   "outputs": [],
   "source": [
    "from epi.image import normalize, ops as img_ops"
   ]
  },
  {
   "cell_type": "code",
   "execution_count": null,
   "metadata": {},
   "outputs": [],
   "source": [
    "depth2_3c = img_ops.to_3channels(255 * normalize.min_max(depth2))\n",
    "depth1_3c = img_ops.to_3channels(255 * normalize.min_max(depth1))"
   ]
  },
  {
   "cell_type": "code",
   "execution_count": null,
   "metadata": {},
   "outputs": [],
   "source": [
    "fig = make_subplots(1, 2)\n",
    "fig.add_trace(go.Image(z=depth1_3c), 1, 1)\n",
    "fig.add_trace(go.Image(z=depth2_3c), 1, 2)\n",
    "fig"
   ]
  },
  {
   "cell_type": "code",
   "execution_count": null,
   "metadata": {},
   "outputs": [],
   "source": [
    "in_img1_idxs = set(world_idx1[np.where(~np.isnan(world_idx1))].astype(np.int32))\n",
    "in_img2_idxs = set(world_idx2[np.where(~np.isnan(world_idx2))].astype(np.int32))"
   ]
  },
  {
   "cell_type": "code",
   "execution_count": null,
   "metadata": {},
   "outputs": [],
   "source": [
    "epipolar_indices = np.array(list(in_img1_idxs.intersection(in_img2_idxs)))\n",
    "epipolar_vertices = house_model.vertices[epipolar_indices]\n",
    "epipolar_color = house_model.color[epipolar_indices]"
   ]
  },
  {
   "cell_type": "code",
   "execution_count": null,
   "metadata": {},
   "outputs": [],
   "source": [
    "x_min, y_min, z_min = np.min(epipolar_vertices, axis=0)\n",
    "x_max, y_max, z_max = np.max(epipolar_vertices, axis=0)"
   ]
  },
  {
   "cell_type": "code",
   "execution_count": null,
   "metadata": {},
   "outputs": [],
   "source": [
    "go.Figure(\n",
    "    data=[\n",
    "        scatter_3d(\n",
    "            epipolar_vertices,\n",
    "            marker=dict(\n",
    "                color=house_model.color[epipolar_indices],\n",
    "                symbol=\"x\",\n",
    "                size=1,\n",
    "            ),\n",
    "        )\n",
    "    ],\n",
    "    layout=dict(\n",
    "        scene=dict(\n",
    "            camera=dict(\n",
    "                up=PLOTLY_UP,\n",
    "            ),\n",
    "            xaxis=dict(\n",
    "                nticks=20,\n",
    "                range=[x_min, x_max],\n",
    "            ),\n",
    "            yaxis=dict(\n",
    "                nticks=20,\n",
    "                range=[y_min, y_max],\n",
    "            ),\n",
    "            zaxis=dict(\n",
    "                nticks=20,\n",
    "                range=[z_max, z_min],\n",
    "            ),\n",
    "        ),\n",
    "        width=600,\n",
    "        height=600,\n",
    "        showlegend=False,\n",
    "    ),\n",
    ")"
   ]
  },
  {
   "cell_type": "code",
   "execution_count": null,
   "metadata": {},
   "outputs": [],
   "source": [
    "st_kps = proj_camera1.project_vertices(epipolar_vertices, drop_last=True)\n",
    "nd_kps = proj_camera2.project_vertices(epipolar_vertices, drop_last=True)\n",
    "\n",
    "F, mask = cv2.findFundamentalMat(\n",
    "    np.int32(st_kps),\n",
    "    np.int32(nd_kps),\n",
    "    \n",
    ")\n",
    "st_kps = st_kps[mask.flatten().astype(np.bool_)]\n",
    "nd_kps = nd_kps[mask.flatten().astype(np.bool_)]"
   ]
  },
  {
   "cell_type": "code",
   "execution_count": null,
   "metadata": {},
   "outputs": [],
   "source": [
    "lines1 = cv2.computeCorrespondEpilines(np.int32(nd_kps).reshape(-1,1,2), 2,F)\n",
    "lines2 = cv2.computeCorrespondEpilines(np.int32(st_kps).reshape(-1,1,2), 1,F)"
   ]
  },
  {
   "cell_type": "code",
   "execution_count": null,
   "metadata": {},
   "outputs": [],
   "source": [
    "def compute_y_at_x(x, line):\n",
    "    return (-line[2] - line[0] * x) / line[1]"
   ]
  },
  {
   "cell_type": "code",
   "execution_count": null,
   "metadata": {},
   "outputs": [],
   "source": [
    "lines1 = cv2.computeCorrespondEpilines(nd_kps.reshape(-1,1,2), 2,F)\n",
    "lines2 = cv2.computeCorrespondEpilines(st_kps.reshape(-1,1,2), 1,F)\n",
    "lines1 = lines1.reshape(-1, 3)\n",
    "lines2 = lines2.reshape(-1, 3)"
   ]
  },
  {
   "cell_type": "code",
   "execution_count": null,
   "metadata": {},
   "outputs": [],
   "source": [
    "nd_lines = (F @ (geom.to_homogenous(st_kps, axis=1)).T).T\n",
    "st_lines = (F.T @ (geom.to_homogenous(nd_kps, axis=1)).T).T"
   ]
  },
  {
   "cell_type": "code",
   "execution_count": null,
   "metadata": {},
   "outputs": [],
   "source": [
    "def make_lines(lines: np.ndarray, points: np.ndarray, xlim: Tuple[int, int], **kwargs):\n",
    "    xmin, xmax = xlim\n",
    "    go_lines = [\n",
    "        go.Scatter(\n",
    "            x=[xmin, xmax],\n",
    "            y=[\n",
    "                compute_y_at_x(xmin, line),\n",
    "                compute_y_at_x(xmax, line),\n",
    "            ],\n",
    "            mode=\"lines\",\n",
    "        )\n",
    "        for line in lines\n",
    "    ]\n",
    "    go_lines.append(\n",
    "        go.Scatter(\n",
    "            x=points[:, 0],\n",
    "            y=points[:, 1],\n",
    "            mode=\"markers\",\n",
    "            **kwargs\n",
    "        )\n",
    "\n",
    "    )\n",
    "    return go_lines"
   ]
  },
  {
   "cell_type": "code",
   "execution_count": null,
   "metadata": {},
   "outputs": [],
   "source": [
    "import plotly.subplots as ps"
   ]
  },
  {
   "cell_type": "code",
   "execution_count": null,
   "metadata": {},
   "outputs": [],
   "source": [
    "no_of_points = 100\n",
    "\n",
    "fig = ps.make_subplots(\n",
    "    rows=2,\n",
    "    cols=2,\n",
    "    row_heights=[400, 400],\n",
    "    column_widths=[600, 600],\n",
    ")\n",
    "\n",
    "fig.update_layout(\n",
    "    showlegend=False,\n",
    ")\n",
    "\n",
    "for ba in make_lines(lines1[:no_of_points], st_kps[:no_of_points], xlim=[0, 640]):\n",
    "    fig.add_trace(ba, col=1, row=1)\n",
    "\n",
    "for ba in make_lines(lines2[:no_of_points], nd_kps[:no_of_points], xlim=[0, 640]):\n",
    "    fig.add_trace(ba, col=2, row=1)\n",
    "\n",
    "for ba in make_lines(st_lines[:no_of_points], st_kps[:no_of_points], xlim=[0, 640]):\n",
    "    fig.add_trace(ba, col=1, row=2)\n",
    "\n",
    "for ba in make_lines(nd_lines[:no_of_points], nd_kps[:no_of_points], xlim=[0, 640]):\n",
    "    fig.add_trace(ba, col=2, row=2)\n",
    "\n",
    "fig.add_trace(\n",
    "    go.Scatter(\n",
    "        x=st_kps[:, 0], y=st_kps[:, 1], mode=\"markers\", marker=dict(size=1)\n",
    "    ),\n",
    "    row=1,\n",
    "    col=1,\n",
    ")\n",
    "\n",
    "fig.add_trace(\n",
    "    go.Scatter(\n",
    "        x=nd_kps[:, 0], y=nd_kps[:, 1], mode=\"markers\", marker=dict(size=1)\n",
    "    ),\n",
    "    row=1,\n",
    "    col=2,\n",
    ")\n",
    "\n",
    "fig.add_trace(\n",
    "    go.Scatter(\n",
    "        x=st_kps[:, 0], y=st_kps[:, 1], mode=\"markers\", marker=dict(size=1)\n",
    "    ),\n",
    "    row=2,\n",
    "    col=1,\n",
    ")\n",
    "\n",
    "fig.add_trace(\n",
    "    go.Scatter(\n",
    "        x=nd_kps[:, 0], y=nd_kps[:, 1], mode=\"markers\", marker=dict(size=1)\n",
    "    ),\n",
    "    row=2,\n",
    "    col=2,\n",
    ")\n",
    "\n",
    "fig"
   ]
  },
  {
   "cell_type": "code",
   "execution_count": null,
   "metadata": {},
   "outputs": [],
   "source": [
    "kp1_ncc = geom.from_homogenous(geom.from_homogenous(proj_camera1.view @ geom.to_homogenous(epipolar_vertices.T))).T\n",
    "kp2_ncc = geom.from_homogenous(geom.from_homogenous(proj_camera2.view @ geom.to_homogenous(epipolar_vertices.T))).T"
   ]
  },
  {
   "cell_type": "code",
   "execution_count": null,
   "metadata": {},
   "outputs": [],
   "source": [
    "E = proj_camera2.K.T @ F @ proj_camera1.K"
   ]
  },
  {
   "cell_type": "code",
   "execution_count": null,
   "metadata": {},
   "outputs": [],
   "source": [
    "Ep, e_mask = cv2.findEssentialMat(kp1_ncc, kp2_ncc)\n",
    "kp1_ncc = kp1_ncc[e_mask.flatten().astype(np.bool_)]\n",
    "kp2_ncc = kp2_ncc[e_mask.flatten().astype(np.bool_)]"
   ]
  },
  {
   "cell_type": "code",
   "execution_count": null,
   "metadata": {},
   "outputs": [],
   "source": [
    "def compute_lines(\n",
    "    mat: np.ndarray,\n",
    "    points: np.ndarray,\n",
    "    img_num=1,\n",
    ") -> np.ndarray:\n",
    "    if img_num == 1:\n",
    "        return (mat.T @ geom.to_homogenous(points.T)).T\n",
    "    elif img_num == 2:\n",
    "        return (mat @ geom.to_homogenous(points.T)).T\n",
    "    else: \n",
    "        raise ValueError(f\"`img_num` should be either 1 or 2, not {img_num} \")\n",
    "    "
   ]
  },
  {
   "cell_type": "code",
   "execution_count": null,
   "metadata": {},
   "outputs": [],
   "source": [
    "lines2_ep_ncc = compute_lines(Ep, kp1_ncc, 2)#(Ep @ geom.to_homogenous(kp1_ncc.T)).T\n",
    "lines1_ep_ncc = compute_lines(Ep, kp2_ncc, 1) # (Ep.T @ geom.to_homogenous(kp2_ncc.T)).T\n",
    "\n",
    "lines2_ncc = compute_lines(E, kp1_ncc, 2)#(Ep @ geom.to_homogenous(kp1_ncc.T)).T\n",
    "lines1_ncc = compute_lines(E, kp2_ncc, 1) # (Ep.T @ geom.to_homogenous(kp2_ncc.T)).T"
   ]
  },
  {
   "cell_type": "code",
   "execution_count": null,
   "metadata": {},
   "outputs": [],
   "source": [
    "min_x1_ncc, min_y1_ncc = kp1_ncc.min(axis=0)\n",
    "max_x1_ncc, max_y1_ncc = kp1_ncc.max(axis=0)\n",
    "\n",
    "min_x2_ncc, min_y2_ncc = kp2_ncc.min(axis=0)\n",
    "max_x2_ncc, max_y2_ncc = kp2_ncc.max(axis=0)"
   ]
  },
  {
   "cell_type": "code",
   "execution_count": null,
   "metadata": {},
   "outputs": [],
   "source": [
    "no_of_points = 100\n",
    "\n",
    "fig = ps.make_subplots(\n",
    "    rows=2,\n",
    "    cols=2,\n",
    "    row_heights=[400, 400],\n",
    "    column_widths=[600, 600],\n",
    ")\n",
    "\n",
    "fig.update_layout(\n",
    "    showlegend=False,\n",
    ")\n",
    "\n",
    "for ba in make_lines(\n",
    "    lines1_ep_ncc[:no_of_points],\n",
    "    kp1_ncc[:no_of_points],\n",
    "    xlim=[min_x1_ncc, max_x1_ncc],\n",
    "):\n",
    "    fig.add_trace(ba, col=1, row=1)\n",
    "\n",
    "for ba in make_lines(\n",
    "    lines2_ep_ncc[:no_of_points],\n",
    "    kp2_ncc[:no_of_points],\n",
    "    xlim=[min_x2_ncc, max_x2_ncc],\n",
    "):\n",
    "    fig.add_trace(ba, col=2, row=1)\n",
    "\n",
    "\n",
    "for ba in make_lines(\n",
    "    lines1_ncc[:no_of_points],\n",
    "    kp1_ncc[:no_of_points],\n",
    "    xlim=[min_x1_ncc, max_x1_ncc],\n",
    "):\n",
    "    fig.add_trace(ba, col=1, row=2)\n",
    "\n",
    "for ba in make_lines(\n",
    "    lines2_ncc[:no_of_points],\n",
    "    kp2_ncc[:no_of_points],\n",
    "    xlim=[min_x2_ncc, max_x2_ncc],\n",
    "):\n",
    "    fig.add_trace(ba, col=2, row=2)\n",
    "\n",
    "\n",
    "fig.add_trace(\n",
    "    go.Scatter(x=kp1_ncc[:, 0], y=kp1_ncc[:, 1], mode=\"markers\", marker=dict(size=1)),\n",
    "    row=1,\n",
    "    col=1,\n",
    ")\n",
    "\n",
    "fig.add_trace(\n",
    "    go.Scatter(x=kp2_ncc[:, 0], y=kp2_ncc[:, 1], mode=\"markers\", marker=dict(size=1)),\n",
    "    row=1,\n",
    "    col=2,\n",
    ")\n",
    "\n",
    "fig.add_trace(\n",
    "    go.Scatter(x=kp1_ncc[:, 0], y=kp1_ncc[:, 1], mode=\"markers\", marker=dict(size=1)),\n",
    "    row=2,\n",
    "    col=1,\n",
    ")\n",
    "\n",
    "fig.add_trace(\n",
    "    go.Scatter(x=kp2_ncc[:, 0], y=kp2_ncc[:, 1], mode=\"markers\", marker=dict(size=1)),\n",
    "    row=2,\n",
    "    col=2,\n",
    ")\n",
    "\n",
    "fig"
   ]
  },
  {
   "cell_type": "code",
   "execution_count": null,
   "metadata": {},
   "outputs": [],
   "source": [
    "v = np.zeros((4, 4))"
   ]
  },
  {
   "cell_type": "code",
   "execution_count": null,
   "metadata": {},
   "outputs": [],
   "source": [
    "def view_from_Rt(R: np.ndarray, t:np.ndarray) -> np.ndarray:\n",
    "    Rt3x4 = np.concatenate([R, t], axis=1)\n",
    "    Rt4x4 = np.concatenate([Rt3x4, np.zeros((1, 4))])\n",
    "    return Rt4x4"
   ]
  },
  {
   "cell_type": "markdown",
   "metadata": {},
   "source": [
    "1. add axis to functions for homogenuous transformations  Done\n",
    "2. Add visualization for points on the epipolar lines Done\n",
    "3. Compute essential matrix Done\n",
    "4. Use essential matrix to compute camera matrices for the two cameras\n",
    "5. Project points back to 3d"
   ]
  }
 ],
 "metadata": {
  "kernelspec": {
   "display_name": "self",
   "language": "python",
   "name": "python3"
  },
  "language_info": {
   "codemirror_mode": {
    "name": "ipython",
    "version": 3
   },
   "file_extension": ".py",
   "mimetype": "text/x-python",
   "name": "python",
   "nbconvert_exporter": "python",
   "pygments_lexer": "ipython3",
   "version": "3.10.12"
  }
 },
 "nbformat": 4,
 "nbformat_minor": 2
}
