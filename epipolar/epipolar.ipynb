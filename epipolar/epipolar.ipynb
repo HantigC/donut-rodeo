{
 "cells": [
  {
   "cell_type": "code",
   "execution_count": null,
   "metadata": {},
   "outputs": [],
   "source": [
    "from plotly import express as px\n",
    "import plotly.graph_objects as go\n",
    "from plotly.subplots import make_subplots"
   ]
  },
  {
   "cell_type": "code",
   "execution_count": null,
   "metadata": {},
   "outputs": [],
   "source": [
    "import cv2"
   ]
  },
  {
   "cell_type": "code",
   "execution_count": null,
   "metadata": {},
   "outputs": [],
   "source": [
    "from epi.plotlyx.express import scatter_3d\n",
    "from epi.plotlyx.utils.fig import np_to_plotly\n",
    "from epi.plotlyx.render import CameraCoordinateRenderer, render_camera_axes"
   ]
  },
  {
   "cell_type": "code",
   "execution_count": null,
   "metadata": {},
   "outputs": [],
   "source": [
    "from epi import geometry as geom"
   ]
  },
  {
   "cell_type": "code",
   "execution_count": null,
   "metadata": {},
   "outputs": [],
   "source": [
    "from typing import Union, List, Tuple"
   ]
  },
  {
   "cell_type": "code",
   "execution_count": null,
   "metadata": {},
   "outputs": [],
   "source": [
    "import numpy as np\n",
    "from IPython.core.debugger import set_trace"
   ]
  },
  {
   "cell_type": "code",
   "execution_count": null,
   "metadata": {},
   "outputs": [],
   "source": [
    "from epi.camera import ProjCamera\n",
    "from epi.model import read_vertices, Model"
   ]
  },
  {
   "cell_type": "code",
   "execution_count": null,
   "metadata": {},
   "outputs": [],
   "source": [
    "PLOTLY_UP = dict(x=0, y=1, z=0)\n",
    "PLOTLY_CENTER = dict(x=0, y=0, z=0)\n",
    "PLOTLY_EYE = dict(x=0, y=0, z=2)\n",
    "SCENE_SCALE = 15"
   ]
  },
  {
   "cell_type": "code",
   "execution_count": null,
   "metadata": {},
   "outputs": [],
   "source": [
    "proj_camera1 = ProjCamera(\n",
    "    np.array([0, 0, 5]),\n",
    "    0.2,\n",
    "    640,\n",
    "    480,\n",
    "    0,\n",
    "    0,\n",
    "    0.001,\n",
    "    0.001,\n",
    ")\n",
    "\n",
    "proj_camera2 = ProjCamera(\n",
    "    np.array([1, 0, 5]),\n",
    "    0.2,\n",
    "    640,\n",
    "    480,\n",
    "    0,\n",
    "    0,\n",
    "    0.001,\n",
    "    0.001,\n",
    ")"
   ]
  },
  {
   "cell_type": "code",
   "execution_count": null,
   "metadata": {},
   "outputs": [],
   "source": [
    "vertices = read_vertices(\"./building_04.obj\")\n",
    "house_model = Model(vertices, color=vertices[:, 1], position=np.array([0, 0, 10]))"
   ]
  },
  {
   "cell_type": "code",
   "execution_count": null,
   "metadata": {},
   "outputs": [],
   "source": [
    "proj_camera1.look_at(house_model.center)\n",
    "proj_camera2.look_at(house_model.center)"
   ]
  },
  {
   "cell_type": "code",
   "execution_count": null,
   "metadata": {},
   "outputs": [],
   "source": [
    "fig = go.Figure(\n",
    "    data=[\n",
    "        scatter_3d(\n",
    "            house_model.vertices,\n",
    "            marker=dict(color=house_model.color, symbol=\"x\", size=1),\n",
    "        )\n",
    "    ],\n",
    ")\n",
    "\n",
    "fig.update_layout(\n",
    "    scene=dict(\n",
    "        camera=dict(\n",
    "            up=PLOTLY_UP,\n",
    "        ),\n",
    "        xaxis=dict(\n",
    "            nticks=20,\n",
    "            range=[-SCENE_SCALE, SCENE_SCALE],\n",
    "        ),\n",
    "        yaxis=dict(\n",
    "            nticks=20,\n",
    "            range=[-SCENE_SCALE, SCENE_SCALE],\n",
    "        ),\n",
    "        zaxis=dict(\n",
    "            nticks=20,\n",
    "            range=[-SCENE_SCALE, SCENE_SCALE],\n",
    "        ),\n",
    "    ),\n",
    "    width=600,\n",
    "    height=600,\n",
    "    showlegend=False,\n",
    "    margin=dict(r=20, l=10, b=10, t=10),\n",
    ")\n",
    "\n",
    "\n",
    "render_camera_axes(fig, proj_camera2)\n",
    "render_camera_axes(fig, proj_camera1)\n",
    "fig.update_scenes(aspectmode=\"data\")\n",
    "\n",
    "fig"
   ]
  },
  {
   "cell_type": "code",
   "execution_count": null,
   "metadata": {},
   "outputs": [],
   "source": [
    "fig = go.Figure(\n",
    "    layout=dict(\n",
    "        scene=dict(\n",
    "            camera=dict(\n",
    "                up=PLOTLY_UP,\n",
    "            ),\n",
    "            xaxis=dict(\n",
    "                nticks=20,\n",
    "                range=[-SCENE_SCALE, SCENE_SCALE],\n",
    "            ),\n",
    "            yaxis=dict(\n",
    "                nticks=20,\n",
    "                range=[-SCENE_SCALE, SCENE_SCALE],\n",
    "            ),\n",
    "            zaxis=dict(\n",
    "                nticks=20,\n",
    "                range=[SCENE_SCALE, -SCENE_SCALE],\n",
    "            ),\n",
    "        ),\n",
    "        width=600,\n",
    "        height=600,\n",
    "        showlegend=False,\n",
    "        margin=dict(r=20, l=10, b=10, t=10),\n",
    "    )\n",
    ")"
   ]
  },
  {
   "cell_type": "code",
   "execution_count": null,
   "metadata": {},
   "outputs": [],
   "source": [
    "camera1_renderer = CameraCoordinateRenderer(proj_camera1, fig=fig)\n",
    "camera2_renderer = CameraCoordinateRenderer(proj_camera2, fig=fig)"
   ]
  },
  {
   "cell_type": "code",
   "execution_count": null,
   "metadata": {},
   "outputs": [],
   "source": [
    "camera1_renderer.render(house_model)"
   ]
  },
  {
   "cell_type": "code",
   "execution_count": null,
   "metadata": {},
   "outputs": [],
   "source": [
    "camera2_renderer.render(house_model)"
   ]
  },
  {
   "cell_type": "code",
   "execution_count": null,
   "metadata": {},
   "outputs": [],
   "source": [
    "img1, depth1, world_idx1 = proj_camera1.render_img(house_model.vertices, color=1)\n",
    "img2, depth2, world_idx2 = proj_camera2.render_img(house_model.vertices, color=1)"
   ]
  },
  {
   "cell_type": "code",
   "execution_count": null,
   "metadata": {},
   "outputs": [],
   "source": [
    "from epi.image import normalize, ops as img_ops"
   ]
  },
  {
   "cell_type": "code",
   "execution_count": null,
   "metadata": {},
   "outputs": [],
   "source": [
    "depth2_3c = img_ops.to_3channels(255 * normalize.min_max(depth2))\n",
    "depth1_3c = img_ops.to_3channels(255 * normalize.min_max(depth1))"
   ]
  },
  {
   "cell_type": "code",
   "execution_count": null,
   "metadata": {},
   "outputs": [],
   "source": [
    "fig = make_subplots(1, 2)\n",
    "fig.add_trace(go.Image(z=depth1_3c), 1, 1)\n",
    "fig.add_trace(go.Image(z=depth2_3c), 1, 2)\n",
    "fig"
   ]
  },
  {
   "cell_type": "code",
   "execution_count": null,
   "metadata": {},
   "outputs": [],
   "source": [
    "in_img1_idxs = set(world_idx1[np.where(~np.isnan(world_idx1))].astype(np.int32))\n",
    "in_img2_idxs = set(world_idx2[np.where(~np.isnan(world_idx2))].astype(np.int32))"
   ]
  },
  {
   "cell_type": "code",
   "execution_count": null,
   "metadata": {},
   "outputs": [],
   "source": [
    "epipolar_indices = np.array(list(in_img1_idxs.intersection(in_img2_idxs)))\n",
    "epipolar_vertices = house_model.vertices[epipolar_indices]\n",
    "epipolar_color = house_model.color[epipolar_indices]"
   ]
  },
  {
   "cell_type": "code",
   "execution_count": null,
   "metadata": {},
   "outputs": [],
   "source": [
    "x_min, y_min, z_min = np.min(epipolar_vertices, axis=0)\n",
    "x_max, y_max, z_max = np.max(epipolar_vertices, axis=0)"
   ]
  },
  {
   "cell_type": "code",
   "execution_count": null,
   "metadata": {},
   "outputs": [],
   "source": [
    "go.Figure(\n",
    "    data=[\n",
    "        scatter_3d(\n",
    "            epipolar_vertices,\n",
    "            marker=dict(color=house_model.color[epipolar_indices], symbol=\"x\", size=1),\n",
    "        )\n",
    "    ],\n",
    "    layout=dict(\n",
    "        scene=dict(\n",
    "            camera=dict(\n",
    "                up=PLOTLY_UP,\n",
    "            ),\n",
    "            xaxis=dict(\n",
    "                nticks=20,\n",
    "                range=[x_min, x_max],\n",
    "            ),\n",
    "            yaxis=dict(\n",
    "                nticks=20,\n",
    "                range=[y_min, y_max],\n",
    "            ),\n",
    "            zaxis=dict(\n",
    "                nticks=20,\n",
    "                range=[z_min, z_max],\n",
    "            ),\n",
    "        ),\n",
    "        width=600,\n",
    "        height=600,\n",
    "        showlegend=False,\n",
    "    ),\n",
    ")"
   ]
  },
  {
   "cell_type": "code",
   "execution_count": null,
   "metadata": {},
   "outputs": [],
   "source": [
    "st_kps = proj_camera1.project_vertices(epipolar_vertices, drop_last=True)\n",
    "nd_kps = proj_camera2.project_vertices(epipolar_vertices, drop_last=True)"
   ]
  },
  {
   "cell_type": "code",
   "execution_count": null,
   "metadata": {},
   "outputs": [],
   "source": [
    "F, mask = cv2.findFundamentalMat(np.int32(st_kps), np.int32(nd_kps))"
   ]
  },
  {
   "cell_type": "code",
   "execution_count": null,
   "metadata": {},
   "outputs": [],
   "source": [
    "def compute_y_at_x(x, line):\n",
    "    return (-line[2] - line[0] * x) / line[1]"
   ]
  },
  {
   "cell_type": "code",
   "execution_count": null,
   "metadata": {},
   "outputs": [],
   "source": [
    "lines = (F @ geom.to_homogenous(nd_kps, axis=1).T).T"
   ]
  },
  {
   "cell_type": "code",
   "execution_count": null,
   "metadata": {},
   "outputs": [],
   "source": [
    "st_lines = (F @ geom.to_homogenous(nd_kps, axis=1).T).T"
   ]
  },
  {
   "cell_type": "code",
   "execution_count": null,
   "metadata": {},
   "outputs": [],
   "source": [
    "nd_lines = geom.to_homogenous(st_kps, axis=1) @ F"
   ]
  },
  {
   "cell_type": "code",
   "execution_count": null,
   "metadata": {},
   "outputs": [],
   "source": [
    "def make_lines(lines: np.ndarray, points: np.ndarray, xlim: Tuple[int, int]):\n",
    "    xmin, xmax = xlim\n",
    "    go_lines = [\n",
    "        go.Scatter(\n",
    "            x=[xmin, xmax],\n",
    "            y=[compute_y_at_x(xmin, line), compute_y_at_x(xmax, line)],\n",
    "            mode=\"lines\",\n",
    "        )\n",
    "        for line in lines\n",
    "    ]\n",
    "    return go_lines"
   ]
  },
  {
   "cell_type": "code",
   "execution_count": null,
   "metadata": {},
   "outputs": [],
   "source": [
    "fig = go.Figure()\n",
    "for ba in make_lines(st_lines[:100], lines, xlim=[0, 640]):\n",
    "    fig.add_trace(ba)\n",
    "\n",
    "fig.add_trace(\n",
    "    go.Scatter(\n",
    "        x=st_kps[:, 0], y=st_kps[:, 1], mode=\"markers\", marker=dict(symbol=\"x\", size=1)\n",
    "    )\n",
    ")\n",
    "\n",
    "fig"
   ]
  },
  {
   "cell_type": "code",
   "execution_count": null,
   "metadata": {},
   "outputs": [],
   "source": [
    "fig = go.Figure()\n",
    "for ba in make_lines(nd_lines[:100], lines, xlim=[0, 640]):\n",
    "    fig.add_trace(ba)\n",
    "\n",
    "fig.add_trace(\n",
    "    go.Scatter(\n",
    "        x=nd_kps[:, 0], y=nd_kps[:, 1], mode=\"markers\", marker=dict(symbol=\"x\", size=1)\n",
    "    )\n",
    ")\n",
    "\n",
    "fig"
   ]
  },
  {
   "cell_type": "markdown",
   "metadata": {},
   "source": [
    "1. add axis to functions for homogenuous transformations  Done\n",
    "2. Add visualization for points on the epipolar lines\n",
    "3. Compute essential matrix\n",
    "4. Use essential matrix to compute camera matrices for the two cameras\n",
    "5. Project points back to 3d"
   ]
  }
 ],
 "metadata": {
  "kernelspec": {
   "display_name": "self",
   "language": "python",
   "name": "python3"
  },
  "language_info": {
   "codemirror_mode": {
    "name": "ipython",
    "version": 3
   },
   "file_extension": ".py",
   "mimetype": "text/x-python",
   "name": "python",
   "nbconvert_exporter": "python",
   "pygments_lexer": "ipython3",
   "version": "3.10.12"
  }
 },
 "nbformat": 4,
 "nbformat_minor": 2
}
